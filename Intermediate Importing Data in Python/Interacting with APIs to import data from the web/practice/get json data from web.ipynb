{
 "cells": [
  {
   "cell_type": "code",
   "execution_count": 1,
   "metadata": {},
   "outputs": [],
   "source": [
    "import json;\n"
   ]
  },
  {
   "cell_type": "code",
   "execution_count": 2,
   "metadata": {},
   "outputs": [],
   "source": [
    "with open(\"json_data.json\",\"r\") as j:\n",
    "    data=json.load(j);"
   ]
  },
  {
   "cell_type": "code",
   "execution_count": 3,
   "metadata": {},
   "outputs": [
    {
     "name": "stdout",
     "output_type": "stream",
     "text": [
      "Title The Social Network\n",
      "Year 2010\n",
      "Rated PG-13\n",
      "Released 01 Oct 2010\n",
      "Runtime 120 min\n",
      "Genre Biography, Drama\n",
      "Director David Fincher\n",
      "Writer Aaron Sorkin (screenplay), Ben Mezrich (book)\n",
      "Actors Jesse Eisenberg, Rooney Mara, Bryan Barter, Dustin Fitzsimons\n",
      "Plot As Harvard student Mark Zuckerberg creates the social networking site that would become known as Facebook, he is sued by the twins who claimed he stole their idea, and by the co-founder who was later squeezed out of the business.\n",
      "Language English, French\n",
      "Country USA\n",
      "Awards Won 3 Oscars. Another 170 wins & 185 nominations.\n",
      "Poster https://m.media-amazon.com/images/M/MV5BOGUyZDUxZjEtMmIzMC00MzlmLTg4MGItZWJmMzBhZjE0Mjc1XkEyXkFqcGdeQXVyMTMxODk2OTU@._V1_SX300.jpg\n",
      "Ratings [{'Source': 'Internet Movie Database', 'Value': '7.7/10'}, {'Source': 'Rotten Tomatoes', 'Value': '96%'}, {'Source': 'Metacritic', 'Value': '95/100'}]\n",
      "Metascore 95\n",
      "imdbRating 7.7\n",
      "imdbVotes 626,530\n",
      "imdbID tt1285016\n",
      "Type movie\n",
      "DVD 05 Jun 2012\n",
      "BoxOffice $96,962,694\n",
      "Production Scott Rudin Productions, Trigger Street Productions, Michael De Luca\n",
      "Website N/A\n",
      "Response True\n"
     ]
    }
   ],
   "source": [
    "for k,v in data.items():\n",
    "    print(k,v)"
   ]
  },
  {
   "cell_type": "code",
   "execution_count": null,
   "metadata": {},
   "outputs": [],
   "source": []
  }
 ],
 "metadata": {
  "kernelspec": {
   "display_name": "Python 3",
   "language": "python",
   "name": "python3"
  },
  "language_info": {
   "codemirror_mode": {
    "name": "ipython",
    "version": 3
   },
   "file_extension": ".py",
   "mimetype": "text/x-python",
   "name": "python",
   "nbconvert_exporter": "python",
   "pygments_lexer": "ipython3",
   "version": "3.8.5"
  }
 },
 "nbformat": 4,
 "nbformat_minor": 4
}
